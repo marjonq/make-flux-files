{
 "cells": [
  {
   "cell_type": "code",
   "execution_count": 72,
   "metadata": {
    "collapsed": false
   },
   "outputs": [
    {
     "name": "stdout",
     "output_type": "stream",
     "text": [
      "detector_correction\n",
      "detector_correction/2010\n",
      "detector_correction/2011\n",
      "detector_correction/bin_edges_0\n",
      "detector_correction/bin_edges_1\n",
      "detector_correction/bin_edges_2\n",
      "nu_mu\n",
      "nu_mu/bin_edges_0\n",
      "nu_mu/bin_edges_1\n",
      "nu_mu/integrated_flux\n",
      "nu_mu_bar\n",
      "nu_mu_bar/bin_edges_0\n",
      "nu_mu_bar/bin_edges_1\n",
      "nu_mu_bar/integrated_flux\n",
      "\n",
      "README\n",
      "bin_edges\n",
      "bin_edges/cosz_bin_edges\n",
      "bin_edges/energy_bin_edges\n",
      "k_nu_mu\n",
      "k_nu_mu/integrated_flux\n",
      "k_nu_mu_bar\n",
      "k_nu_mu_bar/integrated_flux\n",
      "pi_nu_mu\n",
      "pi_nu_mu/integrated_flux\n",
      "pi_nu_mu_bar\n",
      "pi_nu_mu_bar/integrated_flux\n"
     ]
    }
   ],
   "source": [
    "%matplotlib inline\n",
    "import numpy as np\n",
    "import matplotlib.pyplot as plt\n",
    "\n",
    "\n",
    "import h5py\n",
    "import numpy as np\n",
    "CWFile = h5py.File(\"conventional_flux.h5\",\"r\")\n",
    "MMFile = h5py.File(\"Marjon_Int_HondaGaisser.h5\", \"r\")\n",
    "def printname(name):\n",
    "    print name\n",
    "CWFile.visit(printname)\n",
    "print\n",
    "MMFile.visit(printname)"
   ]
  },
  {
   "cell_type": "code",
   "execution_count": 73,
   "metadata": {
    "collapsed": false
   },
   "outputs": [
    {
     "data": {
      "text/plain": [
       "(280, 11)"
      ]
     },
     "execution_count": 73,
     "metadata": {},
     "output_type": "execute_result"
    }
   ],
   "source": [
    "CW_nu_mu = CWFile['nu_mu/integrated_flux']\n",
    "CW_nu_mu.shape"
   ]
  },
  {
   "cell_type": "code",
   "execution_count": 74,
   "metadata": {
    "collapsed": false
   },
   "outputs": [
    {
     "data": {
      "text/plain": [
       "(280, 11)"
      ]
     },
     "execution_count": 74,
     "metadata": {},
     "output_type": "execute_result"
    }
   ],
   "source": [
    "MM_pi_nu_mu = MMFile['pi_nu_mu/integrated_flux']\n",
    "MM_pi_nu_mu.shape"
   ]
  },
  {
   "cell_type": "code",
   "execution_count": 75,
   "metadata": {
    "collapsed": false
   },
   "outputs": [],
   "source": [
    "readme = MMFile['README']"
   ]
  },
  {
   "cell_type": "code",
   "execution_count": 76,
   "metadata": {
    "collapsed": false
   },
   "outputs": [
    {
     "data": {
      "text/plain": [
       "array([[ 'These fluxes are the bin-integrated initial numu (bar) fluxes originating from pions and kaons, separately, according to HondaGaisser models, before propagation through the Earth. I started with the fluxes come from the IC86 Sterile Neutrino Data release:  IC86SterileNeutrinoDataRelease/atmospheric_flux/initial/ I fit a spline to that data, and I used the energy and cosZ bins for which we have detector corrections. These fluxes are integrated over cosZ and energy bins, and over 2pi in azimuthal angle.']], \n",
       "      dtype='|S1000')"
      ]
     },
     "execution_count": 76,
     "metadata": {},
     "output_type": "execute_result"
    }
   ],
   "source": [
    "readme[:]"
   ]
  },
  {
   "cell_type": "code",
   "execution_count": null,
   "metadata": {
    "collapsed": false
   },
   "outputs": [],
   "source": []
  },
  {
   "cell_type": "code",
   "execution_count": null,
   "metadata": {
    "collapsed": false
   },
   "outputs": [],
   "source": []
  },
  {
   "cell_type": "code",
   "execution_count": 77,
   "metadata": {
    "collapsed": false
   },
   "outputs": [
    {
     "data": {
      "text/plain": [
       "281"
      ]
     },
     "execution_count": 77,
     "metadata": {},
     "output_type": "execute_result"
    }
   ],
   "source": [
    "bins0 = CWFile['nu_mu/bin_edges_0']\n",
    "bins0.size"
   ]
  },
  {
   "cell_type": "code",
   "execution_count": 78,
   "metadata": {
    "collapsed": false
   },
   "outputs": [],
   "source": [
    "#for i in np.arange(bins0.size):\n",
    "   # print bins0[i] , \",\""
   ]
  },
  {
   "cell_type": "code",
   "execution_count": 79,
   "metadata": {
    "collapsed": false
   },
   "outputs": [],
   "source": [
    "#sum_E = np.array(np.zeros(280))\n",
    "#sum_E = np.sum(pi_nu_mu+pi_nu_mu_bar+k_nu_mu+k_nu_mu_bar,axis=1)"
   ]
  },
  {
   "cell_type": "code",
   "execution_count": 80,
   "metadata": {
    "collapsed": false
   },
   "outputs": [],
   "source": [
    "with h5py.File(\"Marjon_Int_HondaGaisser.h5\", 'r') as f:\n",
    "    pi_nu_mu = f['pi_nu_mu/integrated_flux'][()]\n",
    "    pi_nu_mu_bar = f['pi_nu_mu_bar/integrated_flux'][()]\n",
    "    k_nu_mu = f['k_nu_mu/integrated_flux'][()]\n",
    "    k_nu_mu_bar = f['k_nu_mu_bar/integrated_flux'][()]\n",
    "    bin_edges = f['bin_edges/energy_bin_edges'][()]"
   ]
  },
  {
   "cell_type": "code",
   "execution_count": 81,
   "metadata": {
    "collapsed": true
   },
   "outputs": [],
   "source": [
    "with h5py.File(\"conventional_flux.h5\", \"r\") as f1:\n",
    "    cw_numu = f1['nu_mu/integrated_flux'][()]\n",
    "    cw_numu_bar = f1['nu_mu_bar/integrated_flux'][()]"
   ]
  },
  {
   "cell_type": "code",
   "execution_count": 82,
   "metadata": {
    "collapsed": false
   },
   "outputs": [
    {
     "name": "stdout",
     "output_type": "stream",
     "text": [
      "(280, 11)\n",
      "(280, 11)\n",
      "(280, 11)\n"
     ]
    }
   ],
   "source": [
    "sum_E = np.sum(k_nu_mu_bar,axis=1)\n",
    "print pi_nu_mu.shape\n",
    "print pi_nu_mu_bar.shape\n",
    "print cw_numu.shape"
   ]
  },
  {
   "cell_type": "code",
   "execution_count": 83,
   "metadata": {
    "collapsed": false
   },
   "outputs": [],
   "source": [
    "bin_centers = np.array(np.zeros(bin_edges.size-1))\n",
    "\n",
    "for i in np.arange(bin_edges.size-1):\n",
    "    bin_centers[i] = (bin_edges[i]+bin_edges[i+1]/2)"
   ]
  },
  {
   "cell_type": "code",
   "execution_count": 84,
   "metadata": {
    "collapsed": false
   },
   "outputs": [
    {
     "data": {
      "image/png": "[encoded data removed]",
      "text/plain": [
       "<matplotlib.figure.Figure at 0x10faa42d0>"
      ]
     },
     "metadata": {},
     "output_type": "display_data"
    }
   ],
   "source": [
    "plt.hist(bin_centers, bins=bin_edges, weights=np.sum(pi_nu_mu+k_nu_mu,axis=1), histtype=\"step\", color='r', label=\"MM pi_nu_mu\")\n",
    "plt.hist(bin_centers, bins=bin_edges, weights=np.sum(cw_numu,axis=1), histtype=\"step\", color='b', label=\"MM pi_nu_mu\")\n",
    "#plt.hist(bin_centers, bins=bin_edges, weights=np.sum(pi_nu_mu_bar,axis=1), histtype=\"step\", color='g', label=\"MM pi_nu_mu\")\n",
    "\n",
    "plt.yscale('log')\n",
    "plt.xscale('log')\n",
    "plt.ylim(ymax = 10**-5, ymin= 10**-18)\n",
    "plt.xlabel('Energy')\n",
    "legend = plt.legend(loc='upper right', shadow=True)\n",
    "plt.savefig(\"spectrum.png\")"
   ]
  },
  {
   "cell_type": "code",
   "execution_count": 85,
   "metadata": {
    "collapsed": false
   },
   "outputs": [],
   "source": [
    "#sum_E"
   ]
  },
  {
   "cell_type": "code",
   "execution_count": null,
   "metadata": {
    "collapsed": true
   },
   "outputs": [],
   "source": []
  }
 ],
 "metadata": {
  "kernelspec": {
   "display_name": "Python 2",
   "language": "python",
   "name": "python2"
  },
  "language_info": {
   "codemirror_mode": {
    "name": "ipython",
    "version": 2
   },
   "file_extension": ".py",
   "mimetype": "text/x-python",
   "name": "python",
   "nbconvert_exporter": "python",
   "pygments_lexer": "ipython2",
   "version": "2.7.10"
  }
 },
 "nbformat": 4,
 "nbformat_minor": 0
}
